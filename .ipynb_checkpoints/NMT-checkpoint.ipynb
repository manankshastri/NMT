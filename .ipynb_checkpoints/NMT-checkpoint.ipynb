{
 "cells": [
  {
   "cell_type": "markdown",
   "metadata": {},
   "source": [
    "### Neural Machine Translation (NMT) model to translate human readable dates (\"25th of June, 2009\") into machine readable dates (\"2009-06-25\") using ATTENTION MODEL"
   ]
  },
  {
   "cell_type": "code",
   "execution_count": 1,
   "metadata": {},
   "outputs": [
    {
     "name": "stderr",
     "output_type": "stream",
     "text": [
      "Using TensorFlow backend.\n"
     ]
    }
   ],
   "source": [
    "from keras.layers import Bidirectional, Concatenate, Permute, Dot, Input, LSTM, Multiply\n",
    "from keras.layers import RepeatVector, Dense, Activation, Lambda\n",
    "from keras.optimizers import Adam\n",
    "from keras.utils import to_categorical\n",
    "from keras.models import load_model, Model\n",
    "import keras.backend as K\n",
    "import numpy as np\n",
    "\n",
    "from faker import Faker\n",
    "import random\n",
    "from tqdm import tqdm\n",
    "from babel.dates import format_date\n",
    "from nmt_utils import *\n",
    "import matplotlib.pyplot as plt\n",
    "%matplotlib inline"
   ]
  },
  {
   "cell_type": "markdown",
   "metadata": {},
   "source": [
    "Training on a dataset of 10000 human readable dates and their equivalent, standardized machine readable dates.  "
   ]
  },
  {
   "cell_type": "code",
   "execution_count": 2,
   "metadata": {},
   "outputs": [
    {
     "name": "stderr",
     "output_type": "stream",
     "text": [
      "100%|██████████| 10000/10000 [00:01<00:00, 7877.51it/s]\n"
     ]
    }
   ],
   "source": [
    "m = 10000\n",
    "dataset, human_vocab, machine_vocab, inv_machine_vocab = load_dataset(m)"
   ]
  },
  {
   "cell_type": "code",
   "execution_count": 3,
   "metadata": {},
   "outputs": [
    {
     "data": {
      "text/plain": [
       "[('9 may 1998', '1998-05-09'),\n",
       " ('10.09.70', '1970-09-10'),\n",
       " ('4/28/90', '1990-04-28'),\n",
       " ('thursday january 26 1995', '1995-01-26'),\n",
       " ('monday march 7 1983', '1983-03-07'),\n",
       " ('sunday may 22 1988', '1988-05-22'),\n",
       " ('tuesday july 8 2008', '2008-07-08'),\n",
       " ('08 sep 1999', '1999-09-08'),\n",
       " ('1 jan 1981', '1981-01-01'),\n",
       " ('monday may 22 1995', '1995-05-22')]"
      ]
     },
     "execution_count": 3,
     "metadata": {},
     "output_type": "execute_result"
    }
   ],
   "source": [
    "dataset[:10]"
   ]
  },
  {
   "cell_type": "markdown",
   "metadata": {},
   "source": [
    "- `dataset`: a list of tuples of (human readable date, machine readable date)\n",
    "- `human_vocab`: a python dictionary mapping all characters used in the human readable dates to an integer-valued index \n",
    "- `machine_vocab`: a python dictionary mapping all characters used in machine readable dates to an integer-valued index. These indices are not necessarily consistent with `human_vocab`. \n",
    "- `inv_machine_vocab`: the inverse dictionary of `machine_vocab`, mapping from indices back to characters. "
   ]
  },
  {
   "cell_type": "code",
   "execution_count": 4,
   "metadata": {},
   "outputs": [
    {
     "name": "stdout",
     "output_type": "stream",
     "text": [
      "X.shape: (10000, 30)\n",
      "Y.shape: (10000, 10)\n",
      "Xoh.shape: (10000, 30, 37)\n",
      "Yoh.shape: (10000, 10, 11)\n"
     ]
    }
   ],
   "source": [
    "Tx = 30   # maximum length of human readable date\n",
    "Ty = 10   # output length ( YYYY-MM-DD )\n",
    "X, Y, Xoh, Yoh = preprocess_data(dataset, human_vocab, machine_vocab, Tx, Ty)\n",
    "\n",
    "print(\"X.shape:\", X.shape)\n",
    "print(\"Y.shape:\", Y.shape)\n",
    "print(\"Xoh.shape:\", Xoh.shape)\n",
    "print(\"Yoh.shape:\", Yoh.shape)"
   ]
  },
  {
   "cell_type": "markdown",
   "metadata": {},
   "source": [
    "- `X`: a processed version of the human readable dates in the training set, where each character is replaced by an index mapped to the character via `human_vocab`. Each date is further padded to $T_x$ values with a special character (< pad >). `X.shape = (m, Tx)`\n",
    "- `Y`: a processed version of the machine readable dates in the training set, where each character is replaced by the index it is mapped to in `machine_vocab`. You should have `Y.shape = (m, Ty)`. \n",
    "- `Xoh`: one-hot version of `X`, the \"1\" entry's index is mapped to the character using `human_vocab`. `Xoh.shape = (m, Tx, len(human_vocab))`\n",
    "- `Yoh`: one-hot version of `Y`, the \"1\" entry's index is mapped to the character using `machine_vocab`. `Yoh.shape = (m, Tx, len(machine_vocab))`. Here, `len(machine_vocab) = 11` since there are 11 characters ('-' as well as 0-9). \n"
   ]
  },
  {
   "cell_type": "code",
   "execution_count": 5,
   "metadata": {},
   "outputs": [
    {
     "name": "stdout",
     "output_type": "stream",
     "text": [
      "Source date: 9 may 1998\n",
      "Target date: 1998-05-09\n",
      "\n",
      "Source after preprocessing (indices): [12  0 24 13 34  0  4 12 12 11 36 36 36 36 36 36 36 36 36 36 36 36 36 36 36\n",
      " 36 36 36 36 36]\n",
      "Target after preprocessing (indices): [ 2 10 10  9  0  1  6  0  1 10]\n",
      "\n",
      "Source after preprocessing (one-hot): [[ 0.  0.  0. ...,  0.  0.  0.]\n",
      " [ 1.  0.  0. ...,  0.  0.  0.]\n",
      " [ 0.  0.  0. ...,  0.  0.  0.]\n",
      " ..., \n",
      " [ 0.  0.  0. ...,  0.  0.  1.]\n",
      " [ 0.  0.  0. ...,  0.  0.  1.]\n",
      " [ 0.  0.  0. ...,  0.  0.  1.]]\n",
      "Target after preprocessing (one-hot): [[ 0.  0.  1.  0.  0.  0.  0.  0.  0.  0.  0.]\n",
      " [ 0.  0.  0.  0.  0.  0.  0.  0.  0.  0.  1.]\n",
      " [ 0.  0.  0.  0.  0.  0.  0.  0.  0.  0.  1.]\n",
      " [ 0.  0.  0.  0.  0.  0.  0.  0.  0.  1.  0.]\n",
      " [ 1.  0.  0.  0.  0.  0.  0.  0.  0.  0.  0.]\n",
      " [ 0.  1.  0.  0.  0.  0.  0.  0.  0.  0.  0.]\n",
      " [ 0.  0.  0.  0.  0.  0.  1.  0.  0.  0.  0.]\n",
      " [ 1.  0.  0.  0.  0.  0.  0.  0.  0.  0.  0.]\n",
      " [ 0.  1.  0.  0.  0.  0.  0.  0.  0.  0.  0.]\n",
      " [ 0.  0.  0.  0.  0.  0.  0.  0.  0.  0.  1.]]\n"
     ]
    }
   ],
   "source": [
    "# example \n",
    "index = 0\n",
    "print(\"Source date:\", dataset[index][0])\n",
    "print(\"Target date:\", dataset[index][1])\n",
    "print()\n",
    "print(\"Source after preprocessing (indices):\", X[index])\n",
    "print(\"Target after preprocessing (indices):\", Y[index])\n",
    "print()\n",
    "print(\"Source after preprocessing (one-hot):\", Xoh[index])\n",
    "print(\"Target after preprocessing (one-hot):\", Yoh[index])"
   ]
  },
  {
   "cell_type": "markdown",
   "metadata": {},
   "source": [
    "### ATTENTION MECHANISM\n",
    "<table>\n",
    "<td> \n",
    "<img src=\"images/attn_model.png\" style=\"width:500;height:500px;\"> <br>\n",
    "</td> \n",
    "<td> \n",
    "<img src=\"images/attn_mechanism.png\" style=\"width:500;height:500px;\"> <br>\n",
    "</td> \n",
    "</table>\n",
    "<caption><center> Neural machine translation with attention</center></caption>"
   ]
  },
  {
   "cell_type": "code",
   "execution_count": 6,
   "metadata": {
    "collapsed": true
   },
   "outputs": [],
   "source": [
    "# shared layers as global variables\n",
    "repeator = RepeatVector(Tx)\n",
    "concatenator = Concatenate(axis=-1)\n",
    "densor1 = Dense(10, activation = \"tanh\")\n",
    "densor2 = Dense(1, activation = \"relu\")\n",
    "activator = Activation(softmax, name='attention_weights') # We are using a custom softmax(axis = 1) loaded in this notebook\n",
    "dotor = Dot(axes = 1)"
   ]
  },
  {
   "cell_type": "code",
   "execution_count": 7,
   "metadata": {
    "collapsed": true
   },
   "outputs": [],
   "source": [
    "def one_step_attention(a, s_prev):\n",
    "    \"\"\"\n",
    "    Performs one step of attention: Outputs a context vector computed as a dot product of the attention weights\n",
    "    \"alphas\" and the hidden states \"a\" of the Bi-LSTM.\n",
    "    \n",
    "    Arguments:\n",
    "    a -- hidden state output of the Bi-LSTM, numpy-array of shape (m, Tx, 2*n_a)\n",
    "    s_prev -- previous hidden state of the (post-attention) LSTM, numpy-array of shape (m, n_s)\n",
    "    \n",
    "    Returns:\n",
    "    context -- context vector, input of the next (post-attetion) LSTM cell\n",
    "    \"\"\"\n",
    "    \n",
    "    # use repeator to repeat s_prev to be of shape (m, Tx, n_s) so that you can concatenate it with all hidden states \"a\"\n",
    "    s_prev = repeator(s_prev)\n",
    "    # use concatenator to concatenate a and s_prev on the last axis\n",
    "    concat = concatenator([a, s_prev])\n",
    "    # use densor1 to propagate concat through a small fully-connected neural network to compute the \"intermediate energies\" variable e.\n",
    "    e = densor1(concat)\n",
    "    # use densor2 to propagate e through a small fully-connected neural network to compute the \"energies\" variable energies\n",
    "    energies = densor2(e)\n",
    "    # use \"activator\" on \"energies\" to compute the attention weights \"alphas\"\n",
    "    alphas = activator(energies)\n",
    "    # use dotor together with \"alphas\" and \"a\" to compute the context vector to be given to the next (post-attention) LSTM-cell\n",
    "    context = dotor([alphas, a])\n",
    "    \n",
    "    return context"
   ]
  },
  {
   "cell_type": "code",
   "execution_count": 8,
   "metadata": {
    "collapsed": true
   },
   "outputs": [],
   "source": [
    "n_a = 32\n",
    "n_s = 64\n",
    "post_activation_LSTM_cell = LSTM(n_s, return_state = True)\n",
    "output_layer = Dense(len(machine_vocab), activation=softmax)"
   ]
  },
  {
   "cell_type": "code",
   "execution_count": 9,
   "metadata": {
    "collapsed": true
   },
   "outputs": [],
   "source": [
    "def model(Tx, Ty, n_a, n_s, human_vocab_size, machine_vocab_size):\n",
    "    \"\"\"\n",
    "    Arguments:\n",
    "    Tx -- length of the input sequence\n",
    "    Ty -- length of the output sequence\n",
    "    n_a -- hidden state size of the Bi-LSTM\n",
    "    n_s -- hidden state size of the post-attention LSTM\n",
    "    human_vocab_size -- size of the python dictionary \"human_vocab\"\n",
    "    machine_vocab_size -- size of the python dictionary \"machine_vocab\"\n",
    "\n",
    "    Returns:\n",
    "    model -- Keras model instance\n",
    "    \"\"\"\n",
    "    \n",
    "    # the input of the model with a shape (Tx,)\n",
    "    # s0 and c0, initial hidden state for the decoder LSTM of shape (n_s,)\n",
    "    X = Input(shape=(Tx, human_vocab_size))\n",
    "    s0 = Input(shape=(n_s,), name='s0')\n",
    "    c0 = Input(shape=(n_s,), name='c0')\n",
    "    s = s0\n",
    "    c = c0\n",
    "    \n",
    "    # initialize empty list of outputs\n",
    "    outputs = []\n",
    "       \n",
    "    # define your pre-attention Bi-LSTM. Remember to use return_sequences=True\n",
    "    a = Bidirectional(LSTM(n_a, return_sequences=True))(X)\n",
    "    \n",
    "    # iterate for Ty steps\n",
    "    for t in range(Ty):\n",
    "    \n",
    "        # perform one step of the attention mechanism to get back the context vector at step t\n",
    "        context = one_step_attention(a, s)\n",
    "        \n",
    "        # apply the post-attention LSTM cell to the \"context\" vector.\n",
    "        s, _, c = post_activation_LSTM_cell(context, initial_state=[s, c])\n",
    "        \n",
    "        # apply Dense layer to the hidden state output of the post-attention LSTM\n",
    "        out = output_layer(s)\n",
    "        \n",
    "        # append \"out\" to the \"outputs\" list\n",
    "        outputs.append(out)\n",
    "    \n",
    "    # create model instance taking three inputs and returning the list of outputs\n",
    "    model = Model([X, s0, c0], outputs)\n",
    "\n",
    "    return model"
   ]
  },
  {
   "cell_type": "code",
   "execution_count": 10,
   "metadata": {},
   "outputs": [
    {
     "name": "stdout",
     "output_type": "stream",
     "text": [
      "____________________________________________________________________________________________________\n",
      "Layer (type)                     Output Shape          Param #     Connected to                     \n",
      "====================================================================================================\n",
      "input_1 (InputLayer)             (None, 30, 37)        0                                            \n",
      "____________________________________________________________________________________________________\n",
      "s0 (InputLayer)                  (None, 64)            0                                            \n",
      "____________________________________________________________________________________________________\n",
      "bidirectional_1 (Bidirectional)  (None, 30, 64)        17920       input_1[0][0]                    \n",
      "____________________________________________________________________________________________________\n",
      "repeat_vector_1 (RepeatVector)   (None, 30, 64)        0           s0[0][0]                         \n",
      "                                                                   lstm_1[0][0]                     \n",
      "                                                                   lstm_1[1][0]                     \n",
      "                                                                   lstm_1[2][0]                     \n",
      "                                                                   lstm_1[3][0]                     \n",
      "                                                                   lstm_1[4][0]                     \n",
      "                                                                   lstm_1[5][0]                     \n",
      "                                                                   lstm_1[6][0]                     \n",
      "                                                                   lstm_1[7][0]                     \n",
      "                                                                   lstm_1[8][0]                     \n",
      "____________________________________________________________________________________________________\n",
      "concatenate_1 (Concatenate)      (None, 30, 128)       0           bidirectional_1[0][0]            \n",
      "                                                                   repeat_vector_1[0][0]            \n",
      "                                                                   bidirectional_1[0][0]            \n",
      "                                                                   repeat_vector_1[1][0]            \n",
      "                                                                   bidirectional_1[0][0]            \n",
      "                                                                   repeat_vector_1[2][0]            \n",
      "                                                                   bidirectional_1[0][0]            \n",
      "                                                                   repeat_vector_1[3][0]            \n",
      "                                                                   bidirectional_1[0][0]            \n",
      "                                                                   repeat_vector_1[4][0]            \n",
      "                                                                   bidirectional_1[0][0]            \n",
      "                                                                   repeat_vector_1[5][0]            \n",
      "                                                                   bidirectional_1[0][0]            \n",
      "                                                                   repeat_vector_1[6][0]            \n",
      "                                                                   bidirectional_1[0][0]            \n",
      "                                                                   repeat_vector_1[7][0]            \n",
      "                                                                   bidirectional_1[0][0]            \n",
      "                                                                   repeat_vector_1[8][0]            \n",
      "                                                                   bidirectional_1[0][0]            \n",
      "                                                                   repeat_vector_1[9][0]            \n",
      "____________________________________________________________________________________________________\n",
      "dense_1 (Dense)                  (None, 30, 10)        1290        concatenate_1[0][0]              \n",
      "                                                                   concatenate_1[1][0]              \n",
      "                                                                   concatenate_1[2][0]              \n",
      "                                                                   concatenate_1[3][0]              \n",
      "                                                                   concatenate_1[4][0]              \n",
      "                                                                   concatenate_1[5][0]              \n",
      "                                                                   concatenate_1[6][0]              \n",
      "                                                                   concatenate_1[7][0]              \n",
      "                                                                   concatenate_1[8][0]              \n",
      "                                                                   concatenate_1[9][0]              \n",
      "____________________________________________________________________________________________________\n",
      "dense_2 (Dense)                  (None, 30, 1)         11          dense_1[0][0]                    \n",
      "                                                                   dense_1[1][0]                    \n",
      "                                                                   dense_1[2][0]                    \n",
      "                                                                   dense_1[3][0]                    \n",
      "                                                                   dense_1[4][0]                    \n",
      "                                                                   dense_1[5][0]                    \n",
      "                                                                   dense_1[6][0]                    \n",
      "                                                                   dense_1[7][0]                    \n",
      "                                                                   dense_1[8][0]                    \n",
      "                                                                   dense_1[9][0]                    \n",
      "____________________________________________________________________________________________________\n",
      "attention_weights (Activation)   (None, 30, 1)         0           dense_2[0][0]                    \n",
      "                                                                   dense_2[1][0]                    \n",
      "                                                                   dense_2[2][0]                    \n",
      "                                                                   dense_2[3][0]                    \n",
      "                                                                   dense_2[4][0]                    \n",
      "                                                                   dense_2[5][0]                    \n",
      "                                                                   dense_2[6][0]                    \n",
      "                                                                   dense_2[7][0]                    \n",
      "                                                                   dense_2[8][0]                    \n",
      "                                                                   dense_2[9][0]                    \n",
      "____________________________________________________________________________________________________\n",
      "dot_1 (Dot)                      (None, 1, 64)         0           attention_weights[0][0]          \n",
      "                                                                   bidirectional_1[0][0]            \n",
      "                                                                   attention_weights[1][0]          \n",
      "                                                                   bidirectional_1[0][0]            \n",
      "                                                                   attention_weights[2][0]          \n",
      "                                                                   bidirectional_1[0][0]            \n",
      "                                                                   attention_weights[3][0]          \n",
      "                                                                   bidirectional_1[0][0]            \n",
      "                                                                   attention_weights[4][0]          \n",
      "                                                                   bidirectional_1[0][0]            \n",
      "                                                                   attention_weights[5][0]          \n",
      "                                                                   bidirectional_1[0][0]            \n",
      "                                                                   attention_weights[6][0]          \n",
      "                                                                   bidirectional_1[0][0]            \n",
      "                                                                   attention_weights[7][0]          \n",
      "                                                                   bidirectional_1[0][0]            \n",
      "                                                                   attention_weights[8][0]          \n",
      "                                                                   bidirectional_1[0][0]            \n",
      "                                                                   attention_weights[9][0]          \n",
      "                                                                   bidirectional_1[0][0]            \n",
      "____________________________________________________________________________________________________\n",
      "c0 (InputLayer)                  (None, 64)            0                                            \n",
      "____________________________________________________________________________________________________\n",
      "lstm_1 (LSTM)                    [(None, 64), (None, 6 33024       dot_1[0][0]                      \n",
      "                                                                   s0[0][0]                         \n",
      "                                                                   c0[0][0]                         \n",
      "                                                                   dot_1[1][0]                      \n",
      "                                                                   lstm_1[0][0]                     \n",
      "                                                                   lstm_1[0][2]                     \n",
      "                                                                   dot_1[2][0]                      \n",
      "                                                                   lstm_1[1][0]                     \n",
      "                                                                   lstm_1[1][2]                     \n",
      "                                                                   dot_1[3][0]                      \n",
      "                                                                   lstm_1[2][0]                     \n",
      "                                                                   lstm_1[2][2]                     \n",
      "                                                                   dot_1[4][0]                      \n",
      "                                                                   lstm_1[3][0]                     \n",
      "                                                                   lstm_1[3][2]                     \n",
      "                                                                   dot_1[5][0]                      \n",
      "                                                                   lstm_1[4][0]                     \n",
      "                                                                   lstm_1[4][2]                     \n",
      "                                                                   dot_1[6][0]                      \n",
      "                                                                   lstm_1[5][0]                     \n",
      "                                                                   lstm_1[5][2]                     \n",
      "                                                                   dot_1[7][0]                      \n",
      "                                                                   lstm_1[6][0]                     \n",
      "                                                                   lstm_1[6][2]                     \n",
      "                                                                   dot_1[8][0]                      \n",
      "                                                                   lstm_1[7][0]                     \n",
      "                                                                   lstm_1[7][2]                     \n",
      "                                                                   dot_1[9][0]                      \n",
      "                                                                   lstm_1[8][0]                     \n",
      "                                                                   lstm_1[8][2]                     \n",
      "____________________________________________________________________________________________________\n",
      "dense_3 (Dense)                  (None, 11)            715         lstm_1[0][0]                     \n",
      "                                                                   lstm_1[1][0]                     \n",
      "                                                                   lstm_1[2][0]                     \n",
      "                                                                   lstm_1[3][0]                     \n",
      "                                                                   lstm_1[4][0]                     \n",
      "                                                                   lstm_1[5][0]                     \n",
      "                                                                   lstm_1[6][0]                     \n",
      "                                                                   lstm_1[7][0]                     \n",
      "                                                                   lstm_1[8][0]                     \n",
      "                                                                   lstm_1[9][0]                     \n",
      "====================================================================================================\n",
      "Total params: 52,960\n",
      "Trainable params: 52,960\n",
      "Non-trainable params: 0\n",
      "____________________________________________________________________________________________________\n"
     ]
    }
   ],
   "source": [
    "model = model(Tx, Ty, n_a, n_s, len(human_vocab), len(machine_vocab))\n",
    "model.summary()"
   ]
  },
  {
   "cell_type": "code",
   "execution_count": 11,
   "metadata": {
    "collapsed": true
   },
   "outputs": [],
   "source": [
    "opt = Adam(lr = 0.005, beta_1=0.9, beta_2=0.999, decay = 0.01)\n",
    "model.compile(loss='categorical_crossentropy', optimizer=opt, metrics=['accuracy'])"
   ]
  },
  {
   "cell_type": "code",
   "execution_count": 13,
   "metadata": {
    "collapsed": true
   },
   "outputs": [],
   "source": [
    "s0 = np.zeros((m, n_s))\n",
    "c0 = np.zeros((m, n_s))\n",
    "outputs = list(Yoh.swapaxes(0,1))"
   ]
  },
  {
   "cell_type": "code",
   "execution_count": 19,
   "metadata": {},
   "outputs": [
    {
     "name": "stdout",
     "output_type": "stream",
     "text": [
      "Epoch 1/20\n",
      "10000/10000 [==============================] - 29s - loss: 3.7375 - dense_3_loss_1: 0.0582 - dense_3_loss_2: 0.0509 - dense_3_loss_3: 0.4733 - dense_3_loss_4: 0.7055 - dense_3_loss_5: 0.0066 - dense_3_loss_6: 0.0848 - dense_3_loss_7: 0.7790 - dense_3_loss_8: 0.0067 - dense_3_loss_9: 0.6237 - dense_3_loss_10: 0.9488 - dense_3_acc_1: 0.9814 - dense_3_acc_2: 0.9814 - dense_3_acc_3: 0.8074 - dense_3_acc_4: 0.8012 - dense_3_acc_5: 1.0000 - dense_3_acc_6: 0.9778 - dense_3_acc_7: 0.7628 - dense_3_acc_8: 1.0000 - dense_3_acc_9: 0.7635 - dense_3_acc_10: 0.6596    \n",
      "Epoch 2/20\n",
      "10000/10000 [==============================] - 28s - loss: 3.4893 - dense_3_loss_1: 0.0571 - dense_3_loss_2: 0.0510 - dense_3_loss_3: 0.4513 - dense_3_loss_4: 0.6405 - dense_3_loss_5: 0.0059 - dense_3_loss_6: 0.0826 - dense_3_loss_7: 0.7288 - dense_3_loss_8: 0.0067 - dense_3_loss_9: 0.5942 - dense_3_loss_10: 0.8712 - dense_3_acc_1: 0.9811 - dense_3_acc_2: 0.9815 - dense_3_acc_3: 0.8160 - dense_3_acc_4: 0.8235 - dense_3_acc_5: 1.0000 - dense_3_acc_6: 0.9786 - dense_3_acc_7: 0.7798 - dense_3_acc_8: 1.0000 - dense_3_acc_9: 0.7770 - dense_3_acc_10: 0.6874    \n",
      "Epoch 3/20\n",
      "10000/10000 [==============================] - 28s - loss: 3.2627 - dense_3_loss_1: 0.0565 - dense_3_loss_2: 0.0499 - dense_3_loss_3: 0.4312 - dense_3_loss_4: 0.5813 - dense_3_loss_5: 0.0053 - dense_3_loss_6: 0.0784 - dense_3_loss_7: 0.6799 - dense_3_loss_8: 0.0063 - dense_3_loss_9: 0.5759 - dense_3_loss_10: 0.7978 - dense_3_acc_1: 0.9823 - dense_3_acc_2: 0.9812 - dense_3_acc_3: 0.8238 - dense_3_acc_4: 0.8430 - dense_3_acc_5: 1.0000 - dense_3_acc_6: 0.9784 - dense_3_acc_7: 0.7976 - dense_3_acc_8: 1.0000 - dense_3_acc_9: 0.7827 - dense_3_acc_10: 0.7128    \n",
      "Epoch 4/20\n",
      "10000/10000 [==============================] - 32s - loss: 3.0831 - dense_3_loss_1: 0.0549 - dense_3_loss_2: 0.0489 - dense_3_loss_3: 0.4129 - dense_3_loss_4: 0.5350 - dense_3_loss_5: 0.0047 - dense_3_loss_6: 0.0779 - dense_3_loss_7: 0.6428 - dense_3_loss_8: 0.0061 - dense_3_loss_9: 0.5589 - dense_3_loss_10: 0.7410 - dense_3_acc_1: 0.9814 - dense_3_acc_2: 0.9813 - dense_3_acc_3: 0.8266 - dense_3_acc_4: 0.8593 - dense_3_acc_5: 1.0000 - dense_3_acc_6: 0.9781 - dense_3_acc_7: 0.8116 - dense_3_acc_8: 1.0000 - dense_3_acc_9: 0.7928 - dense_3_acc_10: 0.7335    \n",
      "Epoch 5/20\n",
      "10000/10000 [==============================] - 33s - loss: 2.8919 - dense_3_loss_1: 0.0537 - dense_3_loss_2: 0.0483 - dense_3_loss_3: 0.3952 - dense_3_loss_4: 0.4891 - dense_3_loss_5: 0.0044 - dense_3_loss_6: 0.0757 - dense_3_loss_7: 0.6011 - dense_3_loss_8: 0.0056 - dense_3_loss_9: 0.5358 - dense_3_loss_10: 0.6831 - dense_3_acc_1: 0.9821 - dense_3_acc_2: 0.9818 - dense_3_acc_3: 0.8334 - dense_3_acc_4: 0.8741 - dense_3_acc_5: 1.0000 - dense_3_acc_6: 0.9779 - dense_3_acc_7: 0.8293 - dense_3_acc_8: 1.0000 - dense_3_acc_9: 0.8036 - dense_3_acc_10: 0.7557    \n",
      "Epoch 6/20\n",
      "10000/10000 [==============================] - 32s - loss: 2.7433 - dense_3_loss_1: 0.0527 - dense_3_loss_2: 0.0480 - dense_3_loss_3: 0.3811 - dense_3_loss_4: 0.4550 - dense_3_loss_5: 0.0040 - dense_3_loss_6: 0.0720 - dense_3_loss_7: 0.5692 - dense_3_loss_8: 0.0053 - dense_3_loss_9: 0.5187 - dense_3_loss_10: 0.6371 - dense_3_acc_1: 0.9819 - dense_3_acc_2: 0.9819 - dense_3_acc_3: 0.8391 - dense_3_acc_4: 0.8825 - dense_3_acc_5: 1.0000 - dense_3_acc_6: 0.9805 - dense_3_acc_7: 0.8411 - dense_3_acc_8: 1.0000 - dense_3_acc_9: 0.8080 - dense_3_acc_10: 0.7729    \n",
      "Epoch 7/20\n",
      "10000/10000 [==============================] - 30s - loss: 2.5987 - dense_3_loss_1: 0.0516 - dense_3_loss_2: 0.0465 - dense_3_loss_3: 0.3677 - dense_3_loss_4: 0.4197 - dense_3_loss_5: 0.0036 - dense_3_loss_6: 0.0704 - dense_3_loss_7: 0.5356 - dense_3_loss_8: 0.0050 - dense_3_loss_9: 0.5024 - dense_3_loss_10: 0.5961 - dense_3_acc_1: 0.9832 - dense_3_acc_2: 0.9824 - dense_3_acc_3: 0.8429 - dense_3_acc_4: 0.8917 - dense_3_acc_5: 1.0000 - dense_3_acc_6: 0.9811 - dense_3_acc_7: 0.8503 - dense_3_acc_8: 1.0000 - dense_3_acc_9: 0.8126 - dense_3_acc_10: 0.7903    \n",
      "Epoch 8/20\n",
      "10000/10000 [==============================] - 28s - loss: 2.4791 - dense_3_loss_1: 0.0509 - dense_3_loss_2: 0.0467 - dense_3_loss_3: 0.3562 - dense_3_loss_4: 0.3952 - dense_3_loss_5: 0.0034 - dense_3_loss_6: 0.0692 - dense_3_loss_7: 0.5080 - dense_3_loss_8: 0.0050 - dense_3_loss_9: 0.4832 - dense_3_loss_10: 0.5612 - dense_3_acc_1: 0.9827 - dense_3_acc_2: 0.9820 - dense_3_acc_3: 0.8452 - dense_3_acc_4: 0.8951 - dense_3_acc_5: 1.0000 - dense_3_acc_6: 0.9801 - dense_3_acc_7: 0.8612 - dense_3_acc_8: 1.0000 - dense_3_acc_9: 0.8227 - dense_3_acc_10: 0.8015    \n",
      "Epoch 9/20\n",
      "10000/10000 [==============================] - 28s - loss: 2.3922 - dense_3_loss_1: 0.0501 - dense_3_loss_2: 0.0458 - dense_3_loss_3: 0.3464 - dense_3_loss_4: 0.3716 - dense_3_loss_5: 0.0031 - dense_3_loss_6: 0.0682 - dense_3_loss_7: 0.4853 - dense_3_loss_8: 0.0047 - dense_3_loss_9: 0.4853 - dense_3_loss_10: 0.5317 - dense_3_acc_1: 0.9837 - dense_3_acc_2: 0.9828 - dense_3_acc_3: 0.8487 - dense_3_acc_4: 0.9020 - dense_3_acc_5: 1.0000 - dense_3_acc_6: 0.9808 - dense_3_acc_7: 0.8660 - dense_3_acc_8: 1.0000 - dense_3_acc_9: 0.8193 - dense_3_acc_10: 0.8167    \n",
      "Epoch 10/20\n",
      "10000/10000 [==============================] - 28s - loss: 2.2742 - dense_3_loss_1: 0.0492 - dense_3_loss_2: 0.0453 - dense_3_loss_3: 0.3378 - dense_3_loss_4: 0.3522 - dense_3_loss_5: 0.0029 - dense_3_loss_6: 0.0662 - dense_3_loss_7: 0.4634 - dense_3_loss_8: 0.0044 - dense_3_loss_9: 0.4538 - dense_3_loss_10: 0.4989 - dense_3_acc_1: 0.9831 - dense_3_acc_2: 0.9825 - dense_3_acc_3: 0.8515 - dense_3_acc_4: 0.9076 - dense_3_acc_5: 1.0000 - dense_3_acc_6: 0.9806 - dense_3_acc_7: 0.8752 - dense_3_acc_8: 1.0000 - dense_3_acc_9: 0.8323 - dense_3_acc_10: 0.8246    \n",
      "Epoch 11/20\n",
      "10000/10000 [==============================] - 29s - loss: 2.1811 - dense_3_loss_1: 0.0490 - dense_3_loss_2: 0.0450 - dense_3_loss_3: 0.3294 - dense_3_loss_4: 0.3359 - dense_3_loss_5: 0.0027 - dense_3_loss_6: 0.0642 - dense_3_loss_7: 0.4396 - dense_3_loss_8: 0.0044 - dense_3_loss_9: 0.4418 - dense_3_loss_10: 0.4690 - dense_3_acc_1: 0.9827 - dense_3_acc_2: 0.9823 - dense_3_acc_3: 0.8543 - dense_3_acc_4: 0.9107 - dense_3_acc_5: 1.0000 - dense_3_acc_6: 0.9817 - dense_3_acc_7: 0.8818 - dense_3_acc_8: 1.0000 - dense_3_acc_9: 0.8418 - dense_3_acc_10: 0.8388    \n",
      "Epoch 12/20\n",
      "10000/10000 [==============================] - 30s - loss: 2.1090 - dense_3_loss_1: 0.0488 - dense_3_loss_2: 0.0453 - dense_3_loss_3: 0.3231 - dense_3_loss_4: 0.3203 - dense_3_loss_5: 0.0026 - dense_3_loss_6: 0.0625 - dense_3_loss_7: 0.4204 - dense_3_loss_8: 0.0041 - dense_3_loss_9: 0.4307 - dense_3_loss_10: 0.4511 - dense_3_acc_1: 0.9835 - dense_3_acc_2: 0.9830 - dense_3_acc_3: 0.8552 - dense_3_acc_4: 0.9120 - dense_3_acc_5: 1.0000 - dense_3_acc_6: 0.9828 - dense_3_acc_7: 0.8894 - dense_3_acc_8: 1.0000 - dense_3_acc_9: 0.8436 - dense_3_acc_10: 0.8413    \n",
      "Epoch 13/20\n",
      "10000/10000 [==============================] - 33s - loss: 2.0279 - dense_3_loss_1: 0.0477 - dense_3_loss_2: 0.0437 - dense_3_loss_3: 0.3135 - dense_3_loss_4: 0.3068 - dense_3_loss_5: 0.0024 - dense_3_loss_6: 0.0610 - dense_3_loss_7: 0.4053 - dense_3_loss_8: 0.0041 - dense_3_loss_9: 0.4159 - dense_3_loss_10: 0.4275 - dense_3_acc_1: 0.9831 - dense_3_acc_2: 0.9831 - dense_3_acc_3: 0.8558 - dense_3_acc_4: 0.9185 - dense_3_acc_5: 1.0000 - dense_3_acc_6: 0.9825 - dense_3_acc_7: 0.8924 - dense_3_acc_8: 1.0000 - dense_3_acc_9: 0.8526 - dense_3_acc_10: 0.8557    \n",
      "Epoch 14/20\n",
      "10000/10000 [==============================] - 31s - loss: 1.9586 - dense_3_loss_1: 0.0474 - dense_3_loss_2: 0.0439 - dense_3_loss_3: 0.3082 - dense_3_loss_4: 0.2949 - dense_3_loss_5: 0.0022 - dense_3_loss_6: 0.0604 - dense_3_loss_7: 0.3899 - dense_3_loss_8: 0.0038 - dense_3_loss_9: 0.3997 - dense_3_loss_10: 0.4082 - dense_3_acc_1: 0.9837 - dense_3_acc_2: 0.9828 - dense_3_acc_3: 0.8580 - dense_3_acc_4: 0.9181 - dense_3_acc_5: 1.0000 - dense_3_acc_6: 0.9822 - dense_3_acc_7: 0.8974 - dense_3_acc_8: 1.0000 - dense_3_acc_9: 0.8541 - dense_3_acc_10: 0.8626    \n",
      "Epoch 15/20\n",
      "10000/10000 [==============================] - 30s - loss: 1.9038 - dense_3_loss_1: 0.0468 - dense_3_loss_2: 0.0435 - dense_3_loss_3: 0.3023 - dense_3_loss_4: 0.2845 - dense_3_loss_5: 0.0021 - dense_3_loss_6: 0.0583 - dense_3_loss_7: 0.3773 - dense_3_loss_8: 0.0037 - dense_3_loss_9: 0.3917 - dense_3_loss_10: 0.3936 - dense_3_acc_1: 0.9833 - dense_3_acc_2: 0.9832 - dense_3_acc_3: 0.8597 - dense_3_acc_4: 0.9202 - dense_3_acc_5: 1.0000 - dense_3_acc_6: 0.9833 - dense_3_acc_7: 0.9001 - dense_3_acc_8: 1.0000 - dense_3_acc_9: 0.8581 - dense_3_acc_10: 0.8676    \n",
      "Epoch 16/20\n",
      "10000/10000 [==============================] - 32s - loss: 1.8420 - dense_3_loss_1: 0.0459 - dense_3_loss_2: 0.0423 - dense_3_loss_3: 0.2975 - dense_3_loss_4: 0.2746 - dense_3_loss_5: 0.0020 - dense_3_loss_6: 0.0574 - dense_3_loss_7: 0.3662 - dense_3_loss_8: 0.0035 - dense_3_loss_9: 0.3790 - dense_3_loss_10: 0.3737 - dense_3_acc_1: 0.9836 - dense_3_acc_2: 0.9843 - dense_3_acc_3: 0.8597 - dense_3_acc_4: 0.9237 - dense_3_acc_5: 1.0000 - dense_3_acc_6: 0.9836 - dense_3_acc_7: 0.9035 - dense_3_acc_8: 1.0000 - dense_3_acc_9: 0.8642 - dense_3_acc_10: 0.8774    \n",
      "Epoch 17/20\n",
      "10000/10000 [==============================] - 33s - loss: 1.7820 - dense_3_loss_1: 0.0457 - dense_3_loss_2: 0.0421 - dense_3_loss_3: 0.2917 - dense_3_loss_4: 0.2650 - dense_3_loss_5: 0.0019 - dense_3_loss_6: 0.0559 - dense_3_loss_7: 0.3527 - dense_3_loss_8: 0.0033 - dense_3_loss_9: 0.3664 - dense_3_loss_10: 0.3573 - dense_3_acc_1: 0.9835 - dense_3_acc_2: 0.9834 - dense_3_acc_3: 0.8634 - dense_3_acc_4: 0.9270 - dense_3_acc_5: 1.0000 - dense_3_acc_6: 0.9833 - dense_3_acc_7: 0.9054 - dense_3_acc_8: 1.0000 - dense_3_acc_9: 0.8688 - dense_3_acc_10: 0.8812    \n",
      "Epoch 18/20\n",
      "10000/10000 [==============================] - 32s - loss: 1.7369 - dense_3_loss_1: 0.0449 - dense_3_loss_2: 0.0417 - dense_3_loss_3: 0.2877 - dense_3_loss_4: 0.2557 - dense_3_loss_5: 0.0018 - dense_3_loss_6: 0.0548 - dense_3_loss_7: 0.3427 - dense_3_loss_8: 0.0032 - dense_3_loss_9: 0.3569 - dense_3_loss_10: 0.3475 - dense_3_acc_1: 0.9838 - dense_3_acc_2: 0.9839 - dense_3_acc_3: 0.8615 - dense_3_acc_4: 0.9293 - dense_3_acc_5: 1.0000 - dense_3_acc_6: 0.9842 - dense_3_acc_7: 0.9094 - dense_3_acc_8: 1.0000 - dense_3_acc_9: 0.8740 - dense_3_acc_10: 0.8865    \n",
      "Epoch 19/20\n",
      "10000/10000 [==============================] - 28s - loss: 1.6921 - dense_3_loss_1: 0.0450 - dense_3_loss_2: 0.0418 - dense_3_loss_3: 0.2838 - dense_3_loss_4: 0.2490 - dense_3_loss_5: 0.0017 - dense_3_loss_6: 0.0538 - dense_3_loss_7: 0.3330 - dense_3_loss_8: 0.0031 - dense_3_loss_9: 0.3485 - dense_3_loss_10: 0.3323 - dense_3_acc_1: 0.9843 - dense_3_acc_2: 0.9842 - dense_3_acc_3: 0.8637 - dense_3_acc_4: 0.9310 - dense_3_acc_5: 1.0000 - dense_3_acc_6: 0.9841 - dense_3_acc_7: 0.9102 - dense_3_acc_8: 1.0000 - dense_3_acc_9: 0.8762 - dense_3_acc_10: 0.8911    \n",
      "Epoch 20/20\n",
      "10000/10000 [==============================] - 28s - loss: 1.6397 - dense_3_loss_1: 0.0444 - dense_3_loss_2: 0.0413 - dense_3_loss_3: 0.2800 - dense_3_loss_4: 0.2425 - dense_3_loss_5: 0.0017 - dense_3_loss_6: 0.0525 - dense_3_loss_7: 0.3251 - dense_3_loss_8: 0.0029 - dense_3_loss_9: 0.3328 - dense_3_loss_10: 0.3165 - dense_3_acc_1: 0.9845 - dense_3_acc_2: 0.9836 - dense_3_acc_3: 0.8620 - dense_3_acc_4: 0.9308 - dense_3_acc_5: 1.0000 - dense_3_acc_6: 0.9835 - dense_3_acc_7: 0.9124 - dense_3_acc_8: 1.0000 - dense_3_acc_9: 0.8826 - dense_3_acc_10: 0.8975    \n"
     ]
    },
    {
     "data": {
      "text/plain": [
       "<keras.callbacks.History at 0x7f01ce36c0b8>"
      ]
     },
     "execution_count": 19,
     "metadata": {},
     "output_type": "execute_result"
    }
   ],
   "source": [
    "model.fit([Xoh, s0, c0], outputs, epochs=20, batch_size=100)"
   ]
  },
  {
   "cell_type": "code",
   "execution_count": null,
   "metadata": {
    "collapsed": true
   },
   "outputs": [],
   "source": [
    "# pretrained model\n",
    "# model.load_weights('models/model.h5')    "
   ]
  },
  {
   "cell_type": "code",
   "execution_count": 21,
   "metadata": {
    "collapsed": true
   },
   "outputs": [],
   "source": [
    "def pp(example):\n",
    "    source = string_to_int(example, Tx, human_vocab)\n",
    "    source = np.array(list(map(lambda x: to_categorical(x, num_classes=len(human_vocab)), source))).swapaxes(0,1)\n",
    "    prediction = model.predict([source, s0, c0])\n",
    "    prediction = np.argmax(prediction, axis = -1)\n",
    "    output = [inv_machine_vocab[int(i)] for i in prediction]\n",
    "    \n",
    "    print(\"source:\", example)\n",
    "    print(\"output:\", ''.join(output))"
   ]
  },
  {
   "cell_type": "code",
   "execution_count": 31,
   "metadata": {},
   "outputs": [
    {
     "name": "stdout",
     "output_type": "stream",
     "text": [
      "source: 1 March 2001\n",
      "output: 2000-03-01\n"
     ]
    }
   ],
   "source": [
    "pp(\"1 March 2001\")"
   ]
  },
  {
   "cell_type": "markdown",
   "metadata": {},
   "source": [
    "Plotting attention values from the model"
   ]
  },
  {
   "cell_type": "code",
   "execution_count": 32,
   "metadata": {},
   "outputs": [
    {
     "data": {
      "text/plain": [
       "<matplotlib.figure.Figure at 0x7f01c82716d8>"
      ]
     },
     "metadata": {},
     "output_type": "display_data"
    },
    {
     "data": {
      "image/png": "[encoded data removed]",
      "text/plain": [
       "<matplotlib.figure.Figure at 0x7f01c81f6630>"
      ]
     },
     "metadata": {},
     "output_type": "display_data"
    }
   ],
   "source": [
    "attention_map = plot_attention_map(model, human_vocab, inv_machine_vocab, \"Tuesday 09 Oct 1993\", num = 7, n_s = 64)"
   ]
  },
  {
   "cell_type": "code",
   "execution_count": null,
   "metadata": {
    "collapsed": true
   },
   "outputs": [],
   "source": []
  }
 ],
 "metadata": {
  "kernelspec": {
   "display_name": "Python [default]",
   "language": "python",
   "name": "python3"
  },
  "language_info": {
   "codemirror_mode": {
    "name": "ipython",
    "version": 3
   },
   "file_extension": ".py",
   "mimetype": "text/x-python",
   "name": "python",
   "nbconvert_exporter": "python",
   "pygments_lexer": "ipython3",
   "version": "3.6.6"
  }
 },
 "nbformat": 4,
 "nbformat_minor": 2
}
